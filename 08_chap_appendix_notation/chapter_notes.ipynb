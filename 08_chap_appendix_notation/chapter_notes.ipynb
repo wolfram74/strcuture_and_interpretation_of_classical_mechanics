{
 "cells": [
  {
   "cell_type": "code",
   "execution_count": 1,
   "metadata": {
    "collapsed": true
   },
   "outputs": [],
   "source": [
    "import sympy"
   ]
  },
  {
   "cell_type": "code",
   "execution_count": 2,
   "metadata": {
    "collapsed": true
   },
   "outputs": [],
   "source": [
    "x0, x1, x2 = sympy.symbols('x0 x1 x2') "
   ]
  },
  {
   "cell_type": "code",
   "execution_count": 3,
   "metadata": {
    "collapsed": false
   },
   "outputs": [
    {
     "data": {
      "text/plain": [
       "x0 + x1"
      ]
     },
     "execution_count": 3,
     "metadata": {},
     "output_type": "execute_result"
    }
   ],
   "source": [
    "x0+x1"
   ]
  },
  {
   "cell_type": "code",
   "execution_count": 4,
   "metadata": {
    "collapsed": false
   },
   "outputs": [
    {
     "data": {
      "text/plain": [
       "(x0 + x1 + x2)**2"
      ]
     },
     "execution_count": 4,
     "metadata": {},
     "output_type": "execute_result"
    }
   ],
   "source": [
    "(x0 + x1 + x2)**2"
   ]
  },
  {
   "cell_type": "code",
   "execution_count": 5,
   "metadata": {
    "collapsed": false
   },
   "outputs": [
    {
     "data": {
      "text/plain": [
       "x0**2 + 2*x0*x1 + 2*x0*x2 + x1**2 + 2*x1*x2 + x2**2"
      ]
     },
     "execution_count": 5,
     "metadata": {},
     "output_type": "execute_result"
    }
   ],
   "source": [
    "sympy.expand((x0 + x1 + x2)**2)"
   ]
  },
  {
   "cell_type": "code",
   "execution_count": 6,
   "metadata": {
    "collapsed": false
   },
   "outputs": [
    {
     "data": {
      "text/plain": [
       "'up tuples are denoted with their indices being super scripts and surrounded by parantheses,  '"
      ]
     },
     "execution_count": 6,
     "metadata": {},
     "output_type": "execute_result"
    }
   ],
   "source": [
    "\"\"\"\n",
    "tuples notes\n",
    "up tuples are denoted with their indices being super scripts and surrounded by parantheses\n",
    "down tuples with subscripts and square brackets.\n",
    "example of a tuple with substructure S = (t,(x,y),[px,py])\n",
    "time is unstructured, position is an uptuple and momentum a down tuple. distinction between types of tuples is ...?\n",
    "referencing these values is much like you would typically reference a nested data structure \n",
    "I(S)[0]-> t\n",
    "I(S)[1]-> (x,y)\n",
    "I(S)[2][1]-> py\n",
    "uptuples and downtuples add amongst themselves like one would imagine. Scalar multiplication like normal.\n",
    "starting to think this bra-ket notation reinvented, but I might like that.\n",
    "the square of a tuple is the sum of the squares of it's products, much like a vectors self-dot product.\n",
    "Multiplication however is not typically so simple.\n",
    "two tuples are compatible for contraction/multiplication if \n",
    "    they are of opposite types and \n",
    "    each pair of components are compatible(opposite tuples or tuples and scalars) \n",
    "while pairwise contraction is commutative, it is not necessarily associative, \n",
    "    uv=vu, but v(ux)!=(vu)x\n",
    "there are rules for multiplying contraction non-compattible objects!\n",
    "    so take structures A, B and C, B being an up, and C being a down.\n",
    "    A*B= (AB0, AB1, AB2) or a tuple of the trailing components type where \n",
    "        each subcomponents element is applied to the whole leading structure\n",
    "    A*C = [AC0,AC1,AC2]\n",
    "    this rule is appliable recursively until only contraction-compatible operations have taken place.\n",
    "The example given (applying a rotation matrix to a position vector) didn't resolve the way I expected it would, though.\n",
    "The error I made was not realizing the _tuple*^tuple resulted in a sum of two ^tuples which reduced to the usual result\n",
    "\n",
    "\"\"\""
   ]
  },
  {
   "cell_type": "code",
   "execution_count": 7,
   "metadata": {
    "collapsed": false
   },
   "outputs": [
    {
     "data": {
      "text/plain": [
       "cos(x0 + x1 - x2)"
      ]
     },
     "execution_count": 7,
     "metadata": {},
     "output_type": "execute_result"
    }
   ],
   "source": [
    "expr = sympy.cos(x0+x1-x2)\n",
    "expr"
   ]
  },
  {
   "cell_type": "code",
   "execution_count": 16,
   "metadata": {
    "collapsed": false
   },
   "outputs": [
    {
     "name": "stdout",
     "output_type": "stream",
     "text": [
      "2*cos(x0 + x1 - x2 + pi/4)**2\n",
      "sin(x0 + x1 - x2)**2 - 2*sin(x0 + x1 - x2)*cos(x0 + x1 - x2) + cos(x0 + x1 - x2)**2\n"
     ]
    }
   ],
   "source": [
    "print sympy.simplify((expr+sympy.diff(expr, x0))**2)\n",
    "print sympy.expand((expr+sympy.diff(expr, x0))**2)"
   ]
  },
  {
   "cell_type": "code",
   "execution_count": 18,
   "metadata": {
    "collapsed": false
   },
   "outputs": [
    {
     "data": {
      "text/plain": [
       "'\\ndifferentiation notes\\nthe derivative operator D when showed up, like D^2f is not D*DF, but DoDf, or composition.\\noperators that show up multiplicatively imply composition of functions, while functions multiply values.\\nA multi-argument function can be considered as a function with an ^tuple argument, which\\n    when differentiated produces a _tuple comprised of partial derivatives of the original function\\npartial derivatives being defined as indices of the resulting derivative. yay circular definitions?\\ndifferentiation inverts... orientation? upness? upness of a tuple.\\n'"
      ]
     },
     "execution_count": 18,
     "metadata": {},
     "output_type": "execute_result"
    }
   ],
   "source": [
    "\"\"\"\n",
    "differentiation notes\n",
    "the derivative operator D when showed up, like D^2f is not D*DF, but DoDf, or composition.\n",
    "operators that show up multiplicatively imply composition of functions, while functions multiply values.\n",
    "A multi-argument function can be considered as a function with an ^tuple argument, which\n",
    "    when differentiated produces a _tuple comprised of partial derivatives of the original function\n",
    "partial derivatives being defined as indices of the resulting derivative. yay circular definitions?\n",
    "differentiation inverts... orientation? upness? upness of a tuple.\n",
    "\"\"\""
   ]
  },
  {
   "cell_type": "code",
   "execution_count": null,
   "metadata": {
    "collapsed": true
   },
   "outputs": [],
   "source": []
  }
 ],
 "metadata": {
  "kernelspec": {
   "display_name": "Python 2",
   "language": "python",
   "name": "python2"
  },
  "language_info": {
   "codemirror_mode": {
    "name": "ipython",
    "version": 2
   },
   "file_extension": ".py",
   "mimetype": "text/x-python",
   "name": "python",
   "nbconvert_exporter": "python",
   "pygments_lexer": "ipython2",
   "version": "2.7.6"
  }
 },
 "nbformat": 4,
 "nbformat_minor": 0
}
